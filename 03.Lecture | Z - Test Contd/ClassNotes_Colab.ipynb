{
  "nbformat": 4,
  "nbformat_minor": 0,
  "metadata": {
    "colab": {
      "provenance": [],
      "include_colab_link": true
    },
    "kernelspec": {
      "name": "python3",
      "display_name": "Python 3"
    },
    "language_info": {
      "name": "python"
    }
  },
  "cells": [
    {
      "cell_type": "markdown",
      "metadata": {
        "id": "view-in-github",
        "colab_type": "text"
      },
      "source": [
        "<a href=\"https://colab.research.google.com/github/nigowda/DAV3-Fundamentals-Pulkith/blob/main/03.Lecture%20%7C%20Z%20-%20Test%20Contd/ClassNotes_Colab.ipynb\" target=\"_parent\"><img src=\"https://colab.research.google.com/assets/colab-badge.svg\" alt=\"Open In Colab\"/></a>"
      ]
    },
    {
      "cell_type": "code",
      "execution_count": null,
      "metadata": {
        "id": "0YQbiftBBKDN"
      },
      "outputs": [],
      "source": [
        "import random\n",
        "import numpy as np"
      ]
    },
    {
      "cell_type": "code",
      "source": [
        "random.seed(23)\n",
        "\n",
        "M1_data = []\n",
        "\n",
        "for _ in range(100):\n",
        "    recovery_time = random.uniform(5.0, 20.0)  # Generating values between 5 and 20\n",
        "    M1_data.append(np.round(recovery_time,0)) # Rounding recovery time to whole numbers\n",
        "\n",
        "M2_data = []\n",
        "\n",
        "for _ in range(90):\n",
        "    recovery_time = random.uniform(5.0, 30.0)  # Generating values between 5 and 20\n",
        "    M2_data.append(np.round(recovery_time,0)) # Rounding recovery time to whole numbers\n",
        "\n",
        "print(M1_data)\n",
        "print(M2_data)"
      ],
      "metadata": {
        "colab": {
          "base_uri": "https://localhost:8080/"
        },
        "id": "KwFBH0r9BS40",
        "outputId": "33a898b2-27de-4e62-be5c-3fa1fd93bda7"
      },
      "execution_count": null,
      "outputs": [
        {
          "output_type": "stream",
          "name": "stdout",
          "text": [
            "[19.0, 19.0, 18.0, 6.0, 14.0, 11.0, 13.0, 7.0, 8.0, 12.0, 8.0, 12.0, 5.0, 6.0, 16.0, 11.0, 13.0, 16.0, 10.0, 6.0, 17.0, 14.0, 15.0, 14.0, 20.0, 10.0, 16.0, 11.0, 14.0, 15.0, 10.0, 6.0, 12.0, 16.0, 14.0, 12.0, 15.0, 8.0, 8.0, 10.0, 17.0, 8.0, 7.0, 6.0, 6.0, 9.0, 14.0, 17.0, 10.0, 11.0, 9.0, 10.0, 17.0, 13.0, 9.0, 7.0, 17.0, 16.0, 17.0, 9.0, 13.0, 19.0, 14.0, 19.0, 8.0, 20.0, 6.0, 11.0, 5.0, 17.0, 15.0, 20.0, 17.0, 19.0, 13.0, 20.0, 16.0, 10.0, 20.0, 11.0, 8.0, 6.0, 12.0, 8.0, 19.0, 19.0, 8.0, 7.0, 13.0, 8.0, 13.0, 17.0, 9.0, 11.0, 19.0, 12.0, 10.0, 18.0, 17.0, 18.0]\n",
            "[22.0, 15.0, 22.0, 26.0, 21.0, 11.0, 12.0, 15.0, 24.0, 19.0, 19.0, 26.0, 8.0, 21.0, 13.0, 19.0, 26.0, 11.0, 29.0, 7.0, 19.0, 19.0, 11.0, 19.0, 17.0, 16.0, 23.0, 5.0, 14.0, 25.0, 9.0, 27.0, 10.0, 22.0, 9.0, 16.0, 16.0, 7.0, 22.0, 17.0, 22.0, 18.0, 19.0, 18.0, 12.0, 27.0, 7.0, 27.0, 27.0, 17.0, 24.0, 22.0, 20.0, 12.0, 13.0, 14.0, 13.0, 29.0, 14.0, 15.0, 15.0, 25.0, 17.0, 19.0, 11.0, 12.0, 7.0, 10.0, 12.0, 26.0, 18.0, 8.0, 17.0, 8.0, 19.0, 16.0, 26.0, 11.0, 26.0, 11.0, 30.0, 21.0, 6.0, 25.0, 12.0, 14.0, 9.0, 26.0, 7.0, 23.0]\n"
          ]
        }
      ]
    },
    {
      "cell_type": "code",
      "source": [
        "# import a library to perform a Z-test\n",
        "from statsmodels.stats import weightstats as stests\n",
        "from scipy import stats"
      ],
      "metadata": {
        "id": "cusAIreHCYqA"
      },
      "execution_count": null,
      "outputs": []
    },
    {
      "cell_type": "code",
      "source": [
        "zscore, p_val = stests.ztest(x1=M1_data, x2=M2_data, value=0, alternative='two-sided')\n",
        "\n",
        "print(zscore, p_val)"
      ],
      "metadata": {
        "colab": {
          "base_uri": "https://localhost:8080/"
        },
        "id": "IYrlRrHSCto0",
        "outputId": "9eecc051-a508-44db-cbdf-ff3b37341166"
      },
      "execution_count": null,
      "outputs": [
        {
          "output_type": "stream",
          "name": "stdout",
          "text": [
            "-5.6959585338190974 1.2268069410933981e-08\n"
          ]
        }
      ]
    },
    {
      "cell_type": "code",
      "source": [
        "alpha = 0.01\n",
        "\n",
        "if p_val < alpha:\n",
        "  print(\"Reject the null hypothesis, (i.e, The recovery time of two medicines are different)\")\n",
        "else:\n",
        "  print(\"Fail to reject the null hypothesis  (i.e, The recovery time of two medicines are same)\")"
      ],
      "metadata": {
        "colab": {
          "base_uri": "https://localhost:8080/"
        },
        "id": "5mdD6rjUEtJ9",
        "outputId": "1bd5a833-47ab-4f67-8edd-978519a67970"
      },
      "execution_count": null,
      "outputs": [
        {
          "output_type": "stream",
          "name": "stdout",
          "text": [
            "Reject the null hypothesis, (i.e, The recovery time of two medicines are different)\n"
          ]
        }
      ]
    },
    {
      "cell_type": "markdown",
      "source": [
        "- In Group X, a random sample of 50 cars with Engine X had an average fuel efficiency of 30 miles per gallon (mpg) with a standard deviation of 3 mpg.\n",
        "- In Group Y, a random sample of 60 cars with Engine Y had an average fuel efficiency of 32 mpg with a standard deviation of 2.5 mpg."
      ],
      "metadata": {
        "id": "21Y8yiZ2FtRs"
      }
    },
    {
      "cell_type": "markdown",
      "source": [
        "Null Hypothesis (H₀): The average fuel efficiency of cars with Engine X is equal to the average fuel efficiency of cars with Engine Y.\n",
        "Alternative Hypothesis (H₁): The average fuel efficiency of cars with Engine X is not equal to the average fuel efficiency of cars with Engine Y."
      ],
      "metadata": {
        "id": "_rOUP1BLGETq"
      }
    },
    {
      "cell_type": "code",
      "source": [
        "import numpy as np\n",
        "from scipy import stats\n",
        "\n",
        "# Given data\n",
        "sample_mean_X = 30 # Average fuel efficiency for Group X (Engine X)\n",
        "sample_mean_Y = 32 # Average fuel efficiency for Group Y (Engine Y)\n",
        "sample_std_X = 3 # Standard deviation for Group X\n",
        "sample_std_Y = 2.5 # Standard deviation for Group Y\n",
        "significance_level = 0.05\n",
        "sample_size_X = 50 # Sample size for Group X\n",
        "sample_size_Y = 60 # Sample size for Group Y"
      ],
      "metadata": {
        "id": "mfKUHvjAFDTp"
      },
      "execution_count": null,
      "outputs": []
    },
    {
      "cell_type": "code",
      "source": [
        "# Define the function to calculate the test statistic and corresponding p-value\n",
        "def TwoSampZTest(samp_mean_1, samp_mean_2, samp_std_1, samp_std_2, n1, n2):\n",
        "  # Calculate the test statistic\n",
        "  denominator = np.sqrt((samp_std_1**2 / n1) + (samp_std_2**2 / n2))\n",
        "  z_score = (samp_mean_1 - samp_mean_2) / denominator\n",
        "  return z_score"
      ],
      "metadata": {
        "id": "fGoW8bg8GWkR"
      },
      "execution_count": null,
      "outputs": []
    },
    {
      "cell_type": "code",
      "source": [
        "z_score = TwoSampZTest(sample_mean_X, sample_mean_Y, sample_std_X, sample_std_Y, sample_size_X, sample_size_Y)\n",
        "\n",
        "# Calculate the two-tailed p-value\n",
        "p_value = 2 * (1 - stats.norm.cdf(abs(z_score)))\n",
        "\n",
        "# Compare the p-value to the significance level\n",
        "if p_value < significance_level:\n",
        "  conclusion = \"Reject the null hypothesis. Engine Y is more fuel-efficient.\"\n",
        "else:\n",
        "  conclusion = \"Fail to reject the null hypothesis. No significant difference in fuel efficiency.\"\n",
        "\n",
        "print(f'z-score: {z_score:.4f}')\n",
        "print(f'p-value: {p_value:.4f}')\n",
        "print('Conclusion:', conclusion)"
      ],
      "metadata": {
        "colab": {
          "base_uri": "https://localhost:8080/"
        },
        "id": "25JgBBPGHsqN",
        "outputId": "ea7cc290-93df-4c6d-c05a-fa3df4dc61ad"
      },
      "execution_count": null,
      "outputs": [
        {
          "output_type": "stream",
          "name": "stdout",
          "text": [
            "z-score: -3.7518\n",
            "p-value: 0.0002\n",
            "Conclusion: Reject the null hypothesis. Engine Y is more fuel-efficient.\n"
          ]
        }
      ]
    },
    {
      "cell_type": "markdown",
      "source": [
        "quiz 1 solution"
      ],
      "metadata": {
        "id": "yeNMPDgaKlh7"
      }
    },
    {
      "cell_type": "code",
      "source": [
        "# Null Hypothesis (H0): The average heights of plants grown with fertilizers X and Y are equal (μ₁ = μ₂).\n",
        "# Alternative Hypothesis (Ha): The average heights of plants grown with fertilizers X and Y are different (μ₁ ≠ μ₂).\n",
        "\n",
        "from statsmodels.stats import weightstats as stests\n",
        "\n",
        "# Group A heights\n",
        "heights_a = [162, 164, 168, 170, 174, 176, 180, 182, 186, 188, 192, 194, 198, 200, 204, 206, 210, 212, 216, 218, 222, 224, 228, 230, 234, 236, 240, 242, 246, 248, 252, 254, 258, 260, 264, 266, 270]\n",
        "\n",
        "# Group B heights\n",
        "heights_b = [158, 162, 166, 170, 174, 178, 182, 186, 190, 194, 198, 202, 206, 210, 214, 218, 222, 226, 230, 234, 238, 242, 246, 250, 254, 258, 262, 266, 270, 274, 278, 282, 286, 290, 294, 298, 302]\n",
        "\n",
        "# Significance level\n",
        "alpha = 0.1\n",
        "\n",
        "# Perform the z-test\n",
        "z_stat, p_value = stests.ztest(heights_a, heights_b, value=0, alternative='two-sided')\n",
        "\n",
        "# Print the z-statistic and p-value\n",
        "print(\"z-statistic:\", z_stat)\n",
        "print(\"p-value:\", p_value)\n",
        "\n",
        "# Decision\n",
        "if p_value < alpha:\n",
        "    print(\"Reject the null hypothesis. There is a statistically significant difference in the average heights of plants grown with fertilizer X and Y.\")\n",
        "else:\n",
        "    print(\"Fail to reject the null hypothesis. There is no statistically significant difference in the average heights of plants grown with fertilizer X and Y.\")"
      ],
      "metadata": {
        "colab": {
          "base_uri": "https://localhost:8080/"
        },
        "id": "9c1-bqmEIKt6",
        "outputId": "c18a670c-6686-4f7c-cf58-6dd9e7473bfe"
      },
      "execution_count": null,
      "outputs": [
        {
          "output_type": "stream",
          "name": "stdout",
          "text": [
            "z-statistic: -1.6280691715301856\n",
            "p-value: 0.10351021950900992\n",
            "Fail to reject the null hypothesis. There is no statistically significant difference in the average heights of plants grown with fertilizer X and Y.\n"
          ]
        }
      ]
    },
    {
      "cell_type": "markdown",
      "source": [
        "# Question\n",
        "- You are a product manager for a company that has recently launched a new product.\n",
        "- Customer satisfaction is a critical metric, and you want to determine if the proportion of satisfied customers with the new product meets your target satisfaction level of 70%.\n",
        "- You collected a random sample of 150 customer reviews, and 115 of them expressed satisfaction with the product."
      ],
      "metadata": {
        "id": "r-c2M6JBQG_D"
      }
    },
    {
      "cell_type": "markdown",
      "source": [
        "- H0: p = 0.7\n",
        "- H1: p != 0.7"
      ],
      "metadata": {
        "id": "wEJOBKvyQsHF"
      }
    },
    {
      "cell_type": "code",
      "source": [
        "p_hat = 115/150\n",
        "p_hat\n",
        "\n",
        "p = 0.7\n",
        "n = 150"
      ],
      "metadata": {
        "id": "3wrwIxTJL6WJ"
      },
      "execution_count": null,
      "outputs": []
    },
    {
      "cell_type": "code",
      "source": [],
      "metadata": {
        "id": "MEbmUZgiRNpU"
      },
      "execution_count": null,
      "outputs": []
    },
    {
      "cell_type": "code",
      "source": [
        "#formula\n",
        "Z = (p_hat - p) / np.sqrt((p * (1 - p)) / n)\n",
        "\n",
        "# Interpret the test statistic\n",
        "# Z follows a standard normal distribution. We will calculate the two-tailed p-value next.\n",
        "\n",
        "# Calculate the p-value\n",
        "p_value = 2 * (1 - stats.norm.cdf(np.abs(Z)))\n",
        "p_value"
      ],
      "metadata": {
        "colab": {
          "base_uri": "https://localhost:8080/"
        },
        "id": "_KICuVMaQ9z7",
        "outputId": "bae16600-49d6-4292-e4d7-939941a6f27a"
      },
      "execution_count": null,
      "outputs": [
        {
          "output_type": "execute_result",
          "data": {
            "text/plain": [
              "0.07479137758694376"
            ]
          },
          "metadata": {},
          "execution_count": 13
        }
      ]
    },
    {
      "cell_type": "markdown",
      "source": [
        "#2 sample Z test"
      ],
      "metadata": {
        "id": "DkMSniF4UrnY"
      }
    },
    {
      "cell_type": "markdown",
      "source": [
        "## question\n",
        "- For the old web page (Web Page A), you had 1000 visitors, resulting in 50 conversions.\n",
        "- For the new web page (Web Page B), you had 500 visitors, resulting in 30 conversions."
      ],
      "metadata": {
        "id": "HYveXA2WUuUl"
      }
    },
    {
      "cell_type": "code",
      "source": [
        "\n",
        "# Step 1: Define the data\n",
        "# Data for the old web page (Web Page A)\n",
        "n_1 = 1000 # visits_1\n",
        "x_1 = 50 # conversions_1\n",
        "\n",
        "# Data for the new web page (Web Page B)\n",
        "n_2 = 500 # visits_2\n",
        "x_2 = 30 # conversions_2\n",
        "\n",
        "# Step 2: Define the hypotheses\n",
        "# Null Hypothesis (H0): Conversion rates are the same.\n",
        "# Alternative Hypothesis (Ha): Conversion rates are different.\n",
        "# This is a two-tailed test.\n",
        "p_1_hat = x_1 / n_1\n",
        "p_2_hat = x_2 / n_2\n",
        "\n",
        "# p_hat: is the combined sample proportion for both web pages.\n",
        "p_hat = (x_1 + x_2) / (n_1 + n_2)\n",
        "\n",
        "# Step 3: Calculate the test statistic (Z)\n",
        "Z = (p_1_hat - p_2_hat) / np.sqrt(p_hat * (1 - p_hat) * ((1 / n_1) + (1 / n_2)))\n",
        "\n",
        "# Step 4: Interpret the test statistic\n",
        "# Z follows a standard normal distribution. We will calculate the two-tailed p-value next.\n",
        "\n",
        "# Step 5: Calculate the p-value\n",
        "p_value = 2 * (1 - stats.norm.cdf(np.abs(Z)))\n",
        "\n",
        "# Print the results\n",
        "print(f\"Z = {Z}\")\n",
        "print(f\"P-value = {p_value}\")"
      ],
      "metadata": {
        "colab": {
          "base_uri": "https://localhost:8080/"
        },
        "id": "DP9EChUXRTTx",
        "outputId": "782c4b65-7925-4c0a-97ae-a5519c687649"
      },
      "execution_count": null,
      "outputs": [
        {
          "output_type": "stream",
          "name": "stdout",
          "text": [
            "Z = -0.8125338562826986\n",
            "P-value = 0.4164853677823288\n"
          ]
        }
      ]
    },
    {
      "cell_type": "markdown",
      "source": [
        "library solution"
      ],
      "metadata": {
        "id": "5St4QPtTWMm1"
      }
    },
    {
      "cell_type": "code",
      "source": [
        "import statsmodels.api as sm\n",
        "import numpy as np\n",
        "\n",
        "# Define the data\n",
        "conversions = np.array([50, 30])  # Number of conversions for Web Page A and Web Page B # x_1, x_2\n",
        "visits = np.array([1000, 500])  # Number of visits for Web Page A and Web Page B # n_1, n_2\n",
        "\n",
        "# Perform the Z-proportions test\n",
        "z_stat, p_value = sm.stats.proportions_ztest(conversions, visits, alternative='two-sided')\n",
        "\n",
        "# Print the results\n",
        "print(f\"Z-statistic = {z_stat}\")\n",
        "print(f\"P-value = {p_value}\")"
      ],
      "metadata": {
        "colab": {
          "base_uri": "https://localhost:8080/"
        },
        "id": "sn6blEvYVlwc",
        "outputId": "772307f3-4b4a-479e-b0a0-80b85db50c14"
      },
      "execution_count": null,
      "outputs": [
        {
          "output_type": "stream",
          "name": "stdout",
          "text": [
            "Z-statistic = -0.8125338562826986\n",
            "P-value = 0.4164853677823287\n"
          ]
        }
      ]
    },
    {
      "cell_type": "code",
      "source": [],
      "metadata": {
        "id": "jLnyXIbXXGUI"
      },
      "execution_count": null,
      "outputs": []
    }
  ]
}